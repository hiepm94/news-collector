{
 "cells": [
  {
   "cell_type": "code",
   "execution_count": 12,
   "metadata": {},
   "outputs": [
    {
     "name": "stdout",
     "output_type": "stream",
     "text": [
      "Trường hè SoICT 2023: Đóng góp cho sự phát triển bền vững của cộng đồng\n",
      "2023-09-19 19:12:00\n",
      "Các thành viên tham gia Trường hè Học máy hiện đại 2023 chụp ảnh tại Tòa nhà B1, Đại học Bách khoa Hà Nội Trường hè Học máy hiện đại 2023 không chỉ đem đến những kiến thức hữu ích về lý thuyết và thực tiễn mà cả những kỷ niệm khó quên cho 40 tài năng trẻ của Việt Nam trong lĩnh vực học máy. Nguyễn Ngọc Cường, nghiên cứu sinh năm 2 tại Florida International University (Mỹ), đang gap-year ở Việt Nam khi biết đến chương trình Trường hè Học máy hiện đại 2023. Chỉ vài tháng nữa, Cường sẽ sang làm việc tại Cơ quan Khoa học, Công nghệ và Nghiên cứu của chính phủ Singapore (A*STAR) về lĩnh vực học máy trong 1 năm. “Tôi tin những bài giảng về mô hình ngôn ngữ hay thuật toán học liên tục tại Trường hè sẽ bổ sung cho bản thân nhiều kiến thức hữu ích và xu hướng trong lĩnh vực học máy để có thể giải quyết những bài toán sau này”, Ngọc Cường chia sẻ lý do ban đầu đăng ký tham gia Trường hè 2023. Một hoạt động đóng góp cho cộng đồng của Đại học Bách khoa Hà Nội “4 ngày Trường hè đã qua, tôi hi vọng các bạn đều có những trải nghiệm tuyệt vời và đáng nhớ cùng nhau”, PGS. Huỳnh Thị Thanh Bình, Phó Hiệu trưởng Trường CNTT&TT, ĐH Bách khoa Hà Nội, chia sẻ tại đêm Gala Dinner của Trường hè trong không khí vui vẻ, ấm áp xen chút tiếc nuối. Đây là năm thứ 2 Trường hè được tổ chức với chủ đề “Học máy hiện đại: Nền tảng lý thuyết và ứng dụng”. Theo PGS. Thanh Bình, mục đích tổ chức Trường hè là đóng góp cho sự phát triển bền vững của cộng đồng thông qua những chia sẻ nghiên cứu mới nhất dành cho các tài năng trẻ về khoa học dữ liệu và trí tuệ nhân tạo trong lĩnh vực xử lý tiếng nói, ngôn ngữ tự nhiên và học máy. PGS. Huỳnh Thị Thanh Bình, Phó Hiệu trưởng Trường CNTT&TT, ĐH Bách khoa Hà Nội tại Trường hè Học máy hiện đại 2023 Trường hè 2023 đề cập tới nhiều chủ đề thời sự trong học máy hiện đại như các mô hình ngôn ngữ lớn, mô hình nền tảng, mô hình khuyếch tán, nền tảng lý thuyết về mô hình học máy lớn, học đa thể thức, biểu diễn xác suất,… cùng đa dạng các ứng dụng trong y tế, tài chính, mạng truyền thông… qua bài giảng của các giáo sư đến từ Đại học Tổng hợp Warszawa (Ba Lan), Dublin City University (Ireland), ISIMA, Clermont Auvergne INP (Pháp); chuyên gia đến từ Vin Bigdata, Naver, Viettel, Sun Asterisk, SolCT. Năm nay, Trường hè tổ chức từ ngày 11-15/9 tại Đại học Bách khoa Hà Nội và Thung Nham resort (Ninh Bình) bởi Trường CNTT&TT, ĐH Bách khoa Hà Nội, và được đồng tài trợ bởi VINBIGDATA và Tập đoàn NAVER – Hàn Quốc với tổng chi phí lên tới gần 450 triệu đồng. Đặc biệt, Trường hè đã tài trợ toàn bộ chi phí tham dự sự kiện cho tất cả học viên xuất sắc từ các vùng miền. Sự kiện nhận được 185 hồ sơ và lựa chọn 40 người tham dự xuất sắc nhất đến từ 19 cơ sở giáo dục, nghiên cứu, doanh nghiệp, đơn vị công lập và 2 cơ sở giáo dục nước ngoài (Mỹ và Đức). “Điểm đặc biệt của năm nay là số hồ sơ nộp, số chuyên gia và sinh viên từ quốc tế đều tăng so với năm trước”, PGS. Thanh Bình cho biết. Trong số người tham dự, chỉ có 2 sinh viên bắt đầu lên năm 4, phần lớn là người học mới tốt nghiệp và học viên cao học, nghiên cứu sinh. Nghiên cứu sinh Nguyễn Ngọc Cường phát biểu tại Trường hè Học máy hiện đại 2023 Nguyễn Ngọc Cường khẳng định, “sự kiện này là bàn đạp để chúng tôi có thể giao lưu và kết nối hợp tác nghiên cứu trong tương lai”, bởi gặp gỡ các bạn trẻ rất tài năng không chỉ là cơ hội học hỏi mà còn mang đến nhiều nguồn năng lượng tích cực. Bên cạnh đó, Ngọc Cường cho biết được làm việc và trao đổi với các thầy cô từ Trường CNTT&TT cũng cho chàng nghiên cứu sinh trẻ hướng đi về cơ hội việc làm tại Đại học Bách khoa Hà Nội sau khi hoàn thành chương trình tiến sỹ ở Mỹ. ‘Trường hè là cơ hội để tôi lột xác...’ Võ Diệp Như, đến từ Bến Tre, hiện làm nghiên cứu sinh ĐH VinUni. Khi còn tham gia nghiên cứu trong khối Đại học Quốc gia TP. Hồ Chí Minh, Diệp Như đã biết đến chương trình Trường hè nhưng chưa thể tham gia vào thời điểm đó. Sau khi biết được thông tin về Trường hè năm nay, cô nghiên cứu sinh đặt mục tiêu ban đầu là tiếp nhận thêm những kiến thức và xu hướng mới trong lĩnh vực của mình, nhưng “những gì tôi nhận được vượt qua ngoài kỳ vọng khi trước”, Như cho biết. Nghiên cứu sinh Võ Diệp Như đặt câu hỏi tại Trường hè Học máy hiện đại 2023 Đây là lần đầu Diệp Như tham gia Trường hè được tổ chức ở địa điểm với không gian rất cởi mở. Các bạn trong nhóm có thể xách máy tính đi khắp khuôn viên với một tinh thần thoải mái, đem lại hiệu quả công việc cao. “Ở Thung Nham có nhiều chỗ ngồi với góc nhìn rất ‘thơ’. Ngồi trên cao ngắm cảnh rồi quay lại với màn hình và dự án, chúng tôi cảm thấy vô cùng hào hứng với công việc”, Như kể lại. Trước đây, Như bộc bạch mình không giỏi trong việc kết nối với mọi người. Dù từng tham gia nhiều buổi hội thảo, cô học viên trẻ cũng không dám chủ động liên hệ hay đặt câu hỏi cho diễn giả. “Trường hè chính là cơ hội để tôi lột xác, một cách rất tự nhiên mà không hề gượng ép”, nữ nghiên cứu sinh thổ lộ ngoài các kiến thức chuyên môn, chương trình này đã giúp cô hoàn thiện kỹ năng mềm. “Các bạn ở Trường hè đều không tin khi tôi nói bản thân là người hướng nội vì cả trường đều biết đến chị Diệp Như”, cô gái đáng yêu vui vẻ kể lại. Nhờ có Trường hè, cô học viên từ VinUni cho biết điều bản thân nhận được nhiều nhất là cơ hội được kết nối và liên hệ với các chuyên gia sau mỗi bài chia sẻ từ các diễn giả. Nguyễn Minh Quân là học viên theo học thạc sỹ Đại học Kỹ thuật Munich, trường đại học công lập lớn nhất nước Đức. Đối với Quân, Trường hè Học máy hiện đại là một trải nghiệm rất đáng nhớ. Khi chọn đề tài cho buổi thuyết trình cuối cùng, các thành viên trong nhóm chọn đề tài mới thay vì những chủ đề quen thuộc. Kết quả cuối cùng, nhóm của Quân đạt giải Nhì, Quân chia sẻ đây là trải nghiệm rất vui về nghiên cứu, vì các bạn tham dự trại hè đều rất thông minh và hiểu ý nhau. Nguyễn Minh Quân đại diện nhóm trình bày bài thuyết trình tại Trường hè Học máy hiện đại 2023 “Mọi người thường nghĩ những người làm nghiên cứu khoa học là khô khan, nhưng đến đây tôi mới thấy mọi người đều rất cởi mở, thân thiện, học hết sức – ‘quẩy’ hết mình”, Quân nhớ lại. Những người tham gia chương trình có thể bắt đầu từ nhiều điểm khác nhau nhưng đều đang đi trên con đường khám phá lĩnh vực học máy và trí tuệ nhân tạo. Minh Quân khẳng định, kết nối ban đầu là chuyên môn và đam mê, nhưng qua nhiều kỷ niệm ở Trường hè, mọi người đã gắn bó như những người bạn thân thiết. Cao Thiên Trí hiện là sinh viên năm cuối Trường đại học Khoa học tự nhiên, Đại học Quốc gia TP. Hồ Chí Minh. Sắp tới, Trí sẽ tốt nghiệp để theo chương trình Tiến sỹ tại Đại học Công nghệ Nanyang, top 2 đại học Singapore trong lĩnh vực công nghệ. Khi biết đến chương trình Trường hè của Bách khoa Hà Nội, Trí ngay lập tức đăng ký tham dự, bởi đối với cậu, “Đại học Bách khoa Hà Nội là đại học hàng đầu miền Bắc với nhiều sinh viên giỏi”. Sinh viên Cao Thiên Trí thuyết trình tại Trường hè Học máy hiện đại 2023 “Quen với người giỏi sẽ giúp mình giỏi hơn, và tôi tin rằng các bạn tham dự chương trình chắc chắn đều sẽ trở thành nhân tài trong tương lai”, Trí hi vọng đây là cơ hội để bản thân được giao lưu với các sinh viên từ ngôi trường nổi tiếng. Nhưng điều khiến cậu sinh viên năm cuối ngạc nhiên là cơ hội được giao lưu với nhiều học viên từ các công ty tư nhân, giúp cậu có thêm góc nhìn về các sản phẩm thực tế thay vì chỉ tập trung cho nghiên cứu học thuật. Ngày cuối cùng kết thúc chuyến đi nhiều kỷ niệm, Thiên Trí chia sẻ những cảm xúc tiếc nuối: “Cả chuyến đi đối với tôi đã là một kỷ niệm đặc biệt, tôi cảm thấy may mắn khi tuổi trẻ của mình là một phần của Trường hè nhiệt huyết. Đến lúc thân thiết lại phải chia xa, nhưng giữ lại chút dư âm tiếc nuối trong lòng để tôi thêm nhớ đến Trường hè nhiều hơn nữa”. Ảnh: Trường CNTT&TT, Đại học Bách khoa Hà Nội\n",
      "/uploads/sys/news/2023_09/z4684061276764_42cd871f750fa6e8081270d97b3bb17d.jpeg\n",
      "https://www.hust.edu.vn/vi/news/hoat-dong-chung/truong-he-hoc-may-hien-dai-2023-dong-gop-cho-su-phat-trien-ben-vung-cua-cong-dong-654862.html\n"
     ]
    }
   ],
   "source": [
    "\n",
    "import requests\n",
    "from scrapy.http import TextResponse\n",
    "from datetime import datetime\n",
    "import dateparser\n",
    "res = requests.get(\"https://www.hust.edu.vn/vi/news/hoat-dong-chung/truong-he-hoc-may-hien-dai-2023-dong-gop-cho-su-phat-trien-ben-vung-cua-cong-dong-654862.html\")\n",
    "response = TextResponse(res.url, body=res.text, encoding='utf-8')\n",
    "\n",
    "products = response.css('.panel-body')\n",
    "title = response.css('h1.title::text').get()\n",
    "datetime_str = response.css('span[class=\"h5\"]::text').get()\n",
    "datetime_obj = dateparser.parse(datetime_str, languages=['vi'])    \n",
    "content = response.css('#news-bodyhtml *::text').getall()\n",
    "cleaned_content = [text.strip() for text in content if text.strip()]\n",
    "cleaned_content = ' '.join(cleaned_content).strip()\n",
    "image_url = response.css('img.img-thumbnail::attr(src)').extract_first()\n",
    "if image_url == None:\n",
    "    image_url = response.css('.news_column .image-center img::attr(src)').extract_first()\n",
    "news_url = response.url\n",
    "    \n",
    "print(title)\n",
    "print(datetime_obj)\n",
    "print(cleaned_content)\n",
    "print(image_url)\n",
    "print(news_url)"
   ]
  },
  {
   "cell_type": "code",
   "execution_count": 6,
   "metadata": {},
   "outputs": [
    {
     "name": "stdout",
     "output_type": "stream",
     "text": [
      "Sáng nay (20/10/2023), Đảng ủy Đại học Bách khoa Hà Nội trang trọng tổ chức Lễ Trao huy hiệu 40 năm, 30 năm tuổi Đảng cho đồng chí Trần Gia Mỹ - Đảng viên chi bộ Năng lượng Nhiệt 2 và đồng chí Nguyễn Văn Vẻ - Đảng viên chi bộ CĐN Bách khoa Hà Nội. Vinh dự của cá nhân, niềm tự hào của cả tập thể Huy hiệu Đảng là sự ghi nhận của Đảng đối với những đồng chí đảng viên có tuổi Đảng cao và cũng là niềm vinh dự, trọng trách để các đồng chí đảng viên được trao Huy hiệu của Đảng tiếp tục phát huy tinh thần trách nhiệm, cống hiến trí tuệ xây dựng Đảng. Đây là một vinh dự lớn không chỉ của cá nhân đồng chí Trần Gia Mỹ và đồng chí Nguyễn Văn Vẻ mà còn là niềm vinh dự, tự hào của toàn Đảng bộ Đại học Bách khoa Hà Nội. Đồng chí Bùi Đức Hùng - Phó Bí thư Thường trực điều hành Đảng bộ đại học - trân trọng trao Huy hiệu 40 năm tuổi Đảng và tặng hoa chúc mừng đồng chí Trần Gia Mỹ Đồng chí Bùi Đức Hùng - Phó Bí thư Thường trực điều hành Đảng bộ đại học - trân trọng trao Huy hiệu 30 năm tuổi Đảng và tặng hoa chúc mừng đồng chí Nguyễn Văn Vẻ Phát biểu tại buổi lễ, thay mặt Đảng bộ đại học, đồng chí Bùi Đức Hùng - Phó Bí thư Thường trực điều hành Đảng bộ đại học - chúc mừng và bày tỏ sự trân trọng đối với những công lao, đóng góp của đồng chí Trần Gia Mỹ và đồng chí Nguyễn Văn Vẻ được nhận Huy hiệu 40 năm, 30 năm tuổi Đảng trong sự nghiệp cách mạng của Đảng, sự nghiệp bảo vệ và xây dựng đất nước và sự phát triển của Đại học Bách khoa Hà Nội. Trong nhiệm kỳ 2020 - 2025, Trường Đại học Bách khoa Hà Nội vinh dự được Thủ tướng Chính phủ chuyển thành Đại học Bách khoa Hà Nội từ tháng 12/2022. Theo đồng chí Bùi Đức Hùng, giai đoạn này rất quan trọng để hoàn thành cơ cấu tổ chức, chuyển đổi mô hình từ Trường thành Đại học. Đồng chí Bùi Đức Hùng phát biểu tại buổi lễ “Trong 67 năm trưởng thành và phát triển, sự đoàn kết, nhất trí, đồng lòng của các thế hệ thầy – trò Bách khoa, có sự đóng góp rất to lớn của các đồng chí đảng viên, đặc biệt là các đồng chí đảng viên tuổi Đảng cao để xây dựng được Bách khoa Hà Nội phát triển như ngày hôm nay. Các đồng chí đã vinh dự được Đảng ghi nhận và trao Huy hiệu. Rất mong trong quá trình chuyển mình của Đại học Bách khoa Hà Nội, các đồng chí tiếp tục đóng góp công sức, trí tuệ của mình. Chúng tôi, thế hệ đi sau, luôn noi theo những tấm gương của các đồng chí, đóng góp, xây dựng Bách khoa Hà Nội ngày một phát triển” – đồng chí Bùi Đức Hùng nhấn mạnh. Đồng chí Nguyễn Việt Dũng – Bí thư Đảng ủy bộ phận Trường Cơ khí - xúc động chia sẻ về người đồng chí – người thầy của các thế hệ sinh viên Trần Gia Mỹ Bày tỏ niềm vinh dự khi được đại diện Đảng ủy bộ phận Trường Cơ khí tham dự buổi lễ trang trọng hôm nay, đồng chí Nguyễn Việt Dũng – Bí thư Đảng ủy bộ phận Trường Cơ khí xúc động chia sẻ về người đồng chí – người thầy của các thế hệ sinh viên Trần Gia Mỹ. Trong 44 năm làm việc của đồng chí Trần Gia Mỹ có 5 năm quân ngũ và 39 năm công tác tại Đại học Bách khoa Hà Nội. Đồng chí Trần Gia Mỹ trưởng thành từ người lính, làm chuyên môn; Bí thư chi bộ, Phó Bí thư Đảng ủy của Khoa, Viện; Phó Viện trưởng, Viện trưởng. “Trong bất kỳ vị trí công tác nào, từ người lính cho đến giảng viên, người làm công tác chuyên môn, công tác quản lý, đồng chí Trần Gia Mỹ đều hoàn thành tốt nhiệm vụ được giao. Đồng chí Trần Gia Mỹ đã góp một phần nhỏ bé của mình vào sự thành công của Đại học Bách khoa Hà Nội. Đó là những truyền thống, di sản tốt đẹp mà chúng tôi cần noi theo, phấn đấu để tiếp tục duy trì, phát huy, đóng góp cho sự phát triển của Trường Cơ khí, của Đại học Bách khoa Hà Nội, xứng tầm với kỳ vọng của tất cả các thế hệ thầy và trò Nhà trường” – Đồng chí Nguyễn Việt Dũng phát biểu. Đồng chí Trần Gia Mỹ phát biểu tại buổi lễ “Cuộc đời tôi may mắn được sống và làm việc tại Bách khoa Hà Nội” Thay mặt đồng chí Nguyễn Văn Vẻ, đồng chí Trần Gia Mỹ đã có những chia sẻ rất xúc động khi vinh dự nhận Huy hiệu 40 năm tuổi Đảng, bồi hồi nhớ lại 40 năm trước được tuyên thệ trước lá cờ Đảng Cộng sản Việt Nam. Thế hệ đồng chí Trần Gia Mỹ sinh ra khi đất nước vừa kết thúc cuộc kháng chiến chống Pháp. Lớn lên, chứng kiến cuộc kháng chiến chống Mỹ, bom đạn đau thương, hình ảnh các chú bộ đội – những Đảng viên anh dũng chiến đấu, hy sinh trên các trận địa – là thần tượng của lớp trẻ đồng chí Trần Gia Mỹ lúc bấy giờ. Nhiều anh em trang lứa với đồng chí Trần Gia Mỹ đã hy sinh trên chiến trường cuộc kháng chiến chống Mỹ. Khoảng thời gian đó, đồng chí Trần Gia Mỹ được Đảng và Nhà nước giao nhiệm vụ đi học tập tại nước ngoài để xây dựng đất nước. “Chúng tôi đã rất cố gắng rèn luyện, xứng đáng với lòng tin của Đảng, xứng đáng với những anh em đồng trang lứa đã anh dũng hy sinh” – đồng chí Trần Gia Mỹ chia sẻ. Các đồng chí Đảng viên tham dự buổi lễ, chúc mừng đồng chí Trần Gia Mỹ và đồng chí Nguyễn Văn Vẻ nhận Huy hiệu 40 năm, 30 tuổi Đảng Thời kỳ cuộc chiến tranh biên giới phía Bắc, theo lệnh tổng động viên, đồng chí Trần Gia Mỹ gia nhập quân đội với tư cách là giảng viên Đại học Bách khoa Hà Nội. Sau đó, đồng chí được đứng trong hàng ngũ của Đảng tại Học viện Kỹ thuật quân sự. “Cuộc đời của tôi có một may mắn rất lớn là được sống và làm việc tại Đại học Bách khoa Hà Nội – một môi trường nhân ái với bầu không khí học thuật bình đẳng. Cũng tại đây, tôi lớn lên về chuyên môn, nhận thức. Tôi rất tự hào là một trong hàng nghìn viên gạch góp phần xây dựng nên Trường Đại học Bách khoa Hà Nội, nay là Đại học Bách khoa Hà Nội. Giờ nhận sổ hưu rồi nhưng ở đâu tôi cũng tự hào mình là người Bách khoa. Thay mặt đồng chí Nguyễn Văn Vẻ, chúng tôi kính chúc Đại học Bách khoa Hà Nội tiếp tục phát triển và vươn lên, xứng đáng với tâm thế mới” – Đồng chí Trần Gia Mỹ phát biểu. “Thời tôi có câu “1000 lời nói không bằng làn khói “xì po” (xe máy Suzuki sport)”. Tôi là người ít nói, cũng không có làn khói nào cả. Bố vợ tôi (trước làm ở BTC Thành ủy Hà Nội), không hiểu bằng cách nào cụ điều tra ra được tôi là đảng viên, giảng viên ở Trường Đại học Bách khoa Hà Nội. Cụ nói với con gái: “Không có việc gì phải suy nghĩ, giữ lấy cho tôi!”. Nhờ Đảng, tôi có được gia đình ngày hôm nay!” – Đồng chí Trần Gia Mỹ. Gia Hân. Ảnh: Tuấn Vũ\n"
     ]
    }
   ],
   "source": [
    "import json\n",
    "with open('output.json', 'r') as f:\n",
    "    data = json.load(f)\n",
    "    content = [item['content'] for item in data][:50]\n",
    "print(content[1])"
   ]
  }
 ],
 "metadata": {
  "kernelspec": {
   "display_name": "base",
   "language": "python",
   "name": "python3"
  },
  "language_info": {
   "codemirror_mode": {
    "name": "ipython",
    "version": 3
   },
   "file_extension": ".py",
   "mimetype": "text/x-python",
   "name": "python",
   "nbconvert_exporter": "python",
   "pygments_lexer": "ipython3",
   "version": "3.10.9"
  }
 },
 "nbformat": 4,
 "nbformat_minor": 2
}
