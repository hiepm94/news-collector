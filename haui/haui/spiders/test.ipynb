{
 "cells": [
  {
   "cell_type": "code",
   "execution_count": 12,
   "metadata": {},
   "outputs": [
    {
     "name": "stdout",
     "output_type": "stream",
     "text": [
      "HaUI – TUKorea: Tăng cường và mở rộng hợp tác đào tạo\n",
      "2023-10-26 15:45:00\n",
      "HaUI – TUKorea: Tăng cường và mở rộng hợp tác đào tạo Thứ Năm, 15:45 26/10/2023 264 Ngày 26/10, Đại học Công nghiệp Hà Nội đã có buổi tiếp đón và làm việc với Đại học Công nghệ Hàn Quốc (TUKorea), Tập đoàn ATI Group nhằm thúc đẩy hợp tác đào tạo theo hình thức làm việc sớm đối với sinh viên các ngành kỹ thuật, kỹ thuật số (ICT, điện tử, phần mềm,…) và các ngành chế tạo máy móc. Toàn cảnh buổi làm việc Tại buổi làm việc, hai bên đã cùng trao đổi những định hướng về Dự án liên kết quốc tế đào tạo đại học theo hình thức làm việc sớm. Đây là dự án được tài trợ bởi Chính phủ Hàn Quốc góp phần bồi dưỡng tài năng toàn cầu trong lĩnh vực công nghiệp. Sau khi tốt nghiệp chương trình này sinh viên có thể học các kỹ năng liên quan đến nghiệp vụ thông qua quá trình làm việc; học tiếng Hàn, văn hoá và nghi thức giao tiếp trong các doanh nghiệp Hàn Quốc. Đặc biệt, sinh viên có cơ hội việc làm tại các doanh nghiệp Hàn Quốc hoặc doanh nghiệp Hàn Quốc tại Việt Nam. Ông Park Ghunsu, Hiệu trưởng Đại học Công nghệ Hàn Quốc phát biểu tại buổi làm việc Ông Park Ghunsu, Hiệu trưởng Đại học Công nghệ Hàn Quốc gửi lời cảm ơn sự đón tiếp chu đáo, đồng thời đánh giá cao sự quan tâm và chia sẻ của lãnh đạo Đại học Công nghiệp Hà Nội. Ông chia sẻ: Mười năm trước TUKorea đã có nhân duyên làm việc với HaUI trong công tác trao đổi nguồn nhân lực chất lượng cao. Đó là nền tảng cho sự hợp tác trong tương lai của hai trường. TS.Kiều Xuân Thực - Hiệu trưởng Đại học Công nghiệp Hà Nội bày tỏ vui mừng khi được đón tiếp và làm việc với Đại học Công nghệ Hàn Quốc Nhấn mạnh về điểm chung giữa Đại học Công nghiệp Hà Nội và Đại học Công nghệ Hàn Quốc, TS.Kiều Xuân Thực – Hiệu trưởng Nhà trường đánh giá cao cơ hội hợp tác giữa hai bên. Thầy cho rằng: Cả hai trường đều đào tạo đa ngành, đa lĩnh vực, tập trung vào kỹ thuật công nghệ. Hiện nay HaUI là một trong những trường đại học có mối quan hệ hợp tác sâu rộng, hiệu quả với nhiều doanh nghiệp. Về chương trình hợp tác đạo tạo giữa hai trường, TS.Kiều Xuân Thực đề nghị chương trình 2+2 nên có sự tham gia của bên thứ ba là doanh nghiệp để khẳng định tính cam kết và góp phần tăng cường khả năng tìm kiếm việc làm trong quá trình thực tập và sau khi tốt nghiệp của sinh viên. Để hợp tác 2 bên đạt hiệu quả cao hơn, trong thời gian tới, HaUI và TUKorea sẽ tiếp tục xúc tiến hợp tác, cùng trao đổi và thống nhất về những định hướng cho kế hoạch hợp tác lâu dài về mô hình đào tạo, chương trình giảng dạy, quá trình đào tạo, học phí và chi phí sinh hoạt. Các đại biểu chụp ảnh lưu niệm Đoàn đi tham quan Khoa Điện tử Một số hình ảnh tại chương trình: Thứ Năm, 15:45 26/10/2023 Tags: nâng cao chất lượng đào tạo Đại học Công nghiệp Hà Nội Đại học Công nghệ Hàn Quốc trao đổi sinh viên kỹ thuật kỹ thuật số chế tạo máy móc\n",
      "https://www.haui.edu.vn//media/92/t92830.jpg\n",
      "https://www.haui.edu.vn/vn/tin-tuc/haui-tukorea-tang-cuong-va-mo-rong-hop-tac-dao-tao/64508\n"
     ]
    }
   ],
   "source": [
    "\n",
    "import requests\n",
    "from scrapy.http import TextResponse\n",
    "from datetime import datetime\n",
    "import dateparser\n",
    "import re\n",
    "res = requests.get(\"https://www.haui.edu.vn/vn/tin-tuc/haui-tukorea-tang-cuong-va-mo-rong-hop-tac-dao-tao/64508\")\n",
    "response = TextResponse(res.url, body=res.text, encoding='utf-8')\n",
    "\n",
    "# products = response.css('.panel-body')\n",
    "title = response.css('.pTitle::text').get()\n",
    "title = re.sub(r'\\s+', ' ', title).strip()\n",
    "datetime_str = response.css('.icofont-clock-time+ a::text').get()\n",
    "datetime_obj = dateparser.parse(datetime_str, languages=['vi'])    \n",
    "content = response.css('div[class=\"irs-blog-col\"] *::text').getall()\n",
    "cleaned_content = [text.strip() for text in content if text.strip()]\n",
    "cleaned_content = ' '.join(cleaned_content).strip()\n",
    "image_url = response.css('div[class=\"irs-blog-col\"] img::attr(src)').extract_first()\n",
    "if image_url == None:\n",
    "    image_url = response.css('.news_column .image-center img::attr(src)').extract_first()\n",
    "news_url = response.url\n",
    "    \n",
    "print(title)\n",
    "print(datetime_obj)\n",
    "print(cleaned_content)\n",
    "print(image_url)\n",
    "print(news_url)"
   ]
  }
 ],
 "metadata": {
  "kernelspec": {
   "display_name": "Python 3",
   "language": "python",
   "name": "python3"
  },
  "language_info": {
   "codemirror_mode": {
    "name": "ipython",
    "version": 3
   },
   "file_extension": ".py",
   "mimetype": "text/x-python",
   "name": "python",
   "nbconvert_exporter": "python",
   "pygments_lexer": "ipython3",
   "version": "3.11.5"
  }
 },
 "nbformat": 4,
 "nbformat_minor": 2
}
