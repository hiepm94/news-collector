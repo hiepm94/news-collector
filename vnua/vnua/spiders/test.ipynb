{
 "cells": [
  {
   "cell_type": "code",
   "execution_count": 4,
   "metadata": {},
   "outputs": [
    {
     "ename": "AttributeError",
     "evalue": "'NoneType' object has no attribute 'replace'",
     "output_type": "error",
     "traceback": [
      "\u001b[1;31m---------------------------------------------------------------------------\u001b[0m",
      "\u001b[1;31mAttributeError\u001b[0m                            Traceback (most recent call last)",
      "\u001b[1;32mc:\\Users\\thand\\OneDrive\\Máy tính\\news-collector\\vnua\\vnua\\spiders\\test.ipynb Cell 1\u001b[0m line \u001b[0;36m1\n\u001b[0;32m      <a href='vscode-notebook-cell:/c%3A/Users/thand/OneDrive/M%C3%A1y%20t%C3%ADnh/news-collector/vnua/vnua/spiders/test.ipynb#W0sZmlsZQ%3D%3D?line=8'>9</a>\u001b[0m title \u001b[39m=\u001b[39m response\u001b[39m.\u001b[39mcss(\u001b[39m'\u001b[39m\u001b[39m.post-title::text\u001b[39m\u001b[39m'\u001b[39m)\u001b[39m.\u001b[39mget()\n\u001b[0;32m     <a href='vscode-notebook-cell:/c%3A/Users/thand/OneDrive/M%C3%A1y%20t%C3%ADnh/news-collector/vnua/vnua/spiders/test.ipynb#W0sZmlsZQ%3D%3D?line=9'>10</a>\u001b[0m title \u001b[39m=\u001b[39m title\u001b[39m.\u001b[39mstrip()\n\u001b[1;32m---> <a href='vscode-notebook-cell:/c%3A/Users/thand/OneDrive/M%C3%A1y%20t%C3%ADnh/news-collector/vnua/vnua/spiders/test.ipynb#W0sZmlsZQ%3D%3D?line=10'>11</a>\u001b[0m datetime_str \u001b[39m=\u001b[39m  response\u001b[39m.\u001b[39;49mcss(\u001b[39m'\u001b[39;49m\u001b[39mspan.spanTimer\u001b[39;49m\u001b[39m'\u001b[39;49m)\u001b[39m.\u001b[39;49mget()\u001b[39m.\u001b[39;49mreplace(\u001b[39m'\u001b[39m\u001b[39mCập nhật lúc \u001b[39m\u001b[39m'\u001b[39m,\u001b[39m'\u001b[39m\u001b[39m'\u001b[39m)\n\u001b[0;32m     <a href='vscode-notebook-cell:/c%3A/Users/thand/OneDrive/M%C3%A1y%20t%C3%ADnh/news-collector/vnua/vnua/spiders/test.ipynb#W0sZmlsZQ%3D%3D?line=11'>12</a>\u001b[0m datetime_str \u001b[39m=\u001b[39m datetime_str\u001b[39m.\u001b[39mstrip()\n\u001b[0;32m     <a href='vscode-notebook-cell:/c%3A/Users/thand/OneDrive/M%C3%A1y%20t%C3%ADnh/news-collector/vnua/vnua/spiders/test.ipynb#W0sZmlsZQ%3D%3D?line=13'>14</a>\u001b[0m datetime_obj \u001b[39m=\u001b[39m dateparser\u001b[39m.\u001b[39mparse(datetime_str, languages\u001b[39m=\u001b[39m[\u001b[39m'\u001b[39m\u001b[39mvi\u001b[39m\u001b[39m'\u001b[39m])\n",
      "\u001b[1;31mAttributeError\u001b[0m: 'NoneType' object has no attribute 'replace'"
     ]
    }
   ],
   "source": [
    "\n",
    "import requests\n",
    "from scrapy.http import TextResponse\n",
    "from datetime import datetime\n",
    "import dateparser\n",
    "res = requests.get(\"https://vnua.edu.vn/tin-tuc-su-kien/tin-sinh-vien/hoc-vien-nong-nghiep-viet-nam-dang-cai-to-chuc-vong-chung-ket-giai-bong-chuyen-sinh-vien-toan-quoc-nam-2023-55401\")\n",
    "response = TextResponse(res.url, body=res.text, encoding='utf-8')\n",
    "\n",
    "# products = response.css('.panel-body')\n",
    "title = response.css('.post-title::text').get()\n",
    "title = title.strip()\n",
    "datetime_str = response.css('.lbPublishedDate::text').get()\n",
    "datetime_obj = dateparser.parse(datetime_str, languages=['vi']) \n",
    "# content = response.css('div[class=\"about-detail posmb-5 pt-3\"] *::text').getall()\n",
    "# cleaned_content = [text.strip() for text in content if text.strip()]\n",
    "# cleaned_content = ' '.join(cleaned_content).strip()\n",
    "# image_url = response.css('div[class=\"about-detail posmb-5 pt-3\"] img::attr(src)').extract_first()\n",
    "# if image_url == None:\n",
    "#     image_url = response.css('.news_column .image-center img::attr(src)').extract_first()\n",
    "# news_url = response.url\n",
    "    \n",
    "print(title)\n",
    "print(datetime_obj)\n",
    "# print(cleaned_content)\n",
    "# print(image_url)\n",
    "# print(news_url)"
   ]
  }
 ],
 "metadata": {
  "kernelspec": {
   "display_name": "Python 3",
   "language": "python",
   "name": "python3"
  },
  "language_info": {
   "codemirror_mode": {
    "name": "ipython",
    "version": 3
   },
   "file_extension": ".py",
   "mimetype": "text/x-python",
   "name": "python",
   "nbconvert_exporter": "python",
   "pygments_lexer": "ipython3",
   "version": "3.11.5"
  }
 },
 "nbformat": 4,
 "nbformat_minor": 2
}
