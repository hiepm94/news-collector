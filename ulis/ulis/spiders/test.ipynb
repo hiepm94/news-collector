{
 "cells": [
  {
   "cell_type": "code",
   "execution_count": 15,
   "metadata": {},
   "outputs": [
    {
     "name": "stdout",
     "output_type": "stream",
     "text": [
      "Đồng hành kết nối giữa cựu sinh viên và sinh viên khóa QH2023.F1\n",
      "27, Th10,2023\n",
      "None\n",
      "Ngày 08/10/2023, tại Hội trường Vũ Đình Liên, Trường Đại học Ngoại ngữ, Đại học Quốc gia Hà Nội đã tổ chức chương trình Đồng hành kết nối giữa cựu sinh viên và sinh viên khóa QH.2023.F1 năm học 2023-2024. Chương trình được Nhà trường và do Mạng lưới cựu học sinh sinh viên (ULIS ALUMNI) triển khai. 65 lớp đã được 65 anh chị cựu sinh viên “đỡ đầu” trong buổi khởi động này. Tham dự chương trình có Chủ tịch Hội đồng Trường Đỗ Tuấn Minh; Hiệu trưởng Nguyễn Xuân Long; Phó Hiệu trưởng Hà Lê Kim Anh, Phó Hiệu trưởng Hoa Ngọc Sơn; Chủ tịch Mạng lưới cựu HSSV Nguyễn Lân Trung; đại diện lãnh đạo P. CT&CT HSSV, cựu sinh viên và sinh viên khóa QH.2023 của Nhà trường. Chia sẻ mở đầu chương trình, thầy Nguyễn Lân Trung đã gửi lời chào mừng 65 cựu sinh viên và 65 sinh viên đại diện cho 65 lớp khoá QH.2023. Với mục đích để các bạn tân sinh viên năm nay có cái nhìn trực quan về chương trình học và định hướng phát triển của ngành nghề mà mình đang theo đuổi qua những chia sẻ, trải nghiệm chân thực nhất của các thế hệ đi trước, Nhà trường đã tổ chức chương trình kết nối. Nhằm ý nghĩa cao cả đó, thầy Nguyễn Lân Trung cũng bày tỏ sự biết ơn khi các cựu sinh viên có thể sắp xếp lịch trình cá nhân để tham gia chương trình, giúp đỡ những bạn tân sinh viên của ULIS, dù cuộc sống riêng vô cùng bận rộn. Tiếp tục chương trình, TS. Đỗ Tuấn Minh – Bí thư Đảng uỷ, Chủ tịch Hội đồng Trường ĐHNN đã có đôi lời phát biểu. Nhìn vào thực tế, hiện tại đã có rất nhiều hoạt động, tọa đàm chia sẻ dành cho các em tân sinh viên nhưng so với lịch sử hoạt động của trường thì vẫn chưa được nhiều như mong muốn. Do đó, chương trình này được tổ chức với mong muốn các cựu sinh viên có thể nghĩ ra các hình thức trao đổi, chia sẻ một cách độc đáo về phương pháp học tập hiệu quả và nghiên cứu khoa học cũng như đồng hành, tạo điều kiện cho các em sinh viên trong quá trình thực tập và khởi nghiệp. Không chỉ dừng lại ở đó, chương trình còn hy vọng giúp các em sinh viên xây dựng mạng lưới quan hệ, các mối liên kết xã hội nhằm giúp ích cho tương lai sau này. Thầy mong thành công của chương trình sẽ đánh dấu một cột mốc lớn trong mạng lưới cựu sinh viên và sinh viên của Nhà trường cũng như kỷ niệm ba năm ngày thành lập mạng lưới cựu HSSV. Cuối bài phát biểu, thầy chúc chương trình diễn ra thành công tốt đẹp, chúc các bạn tân sinh viên có thật nhiều kỷ niệm đáng nhớ dưới mái nhà chung mang tên ULIS. Ngay sau đó, trước khi di chuyển về các lớp theo sự sắp xếp của ban tổ chức, cả hội trường đã cùng nhau hát bài “Cây đàn sinh viên” do thầy Nguyễn Lân Trung bắt nhịp. Đây cũng là bài hát mà các cựu sinh viên và đại diện sinh viên sẽ trình bày trong chương trình văn nghệ Chào Ngoại Ngữ 2023 diễn ra vào tối ngày 08 tháng 10. Kết thúc chương trình, đoàn khách mời và đại diện sinh viên đã di chuyển về các lớp dưới sự hỗ trợ của P. CT&CT HSSV. Tại mỗi điểm lớp, các cựu sinh viên đã có những chia sẻ chân thật về ngành học và nghề nghiệp hiện tại của bản thân. Các em tân sinh viên cũng rất tích cực đặt câu hỏi như làm rõ thêm cho hình ảnh sinh viên trường ĐHNN luôn năng động, chủ động tìm hiểu, học hỏi để tích lũy thêm kiến thức. Buổi trao đổi tại các điểm lớp đã diễn ra trong không khí vui vẻ, khẩn trương và tích cực. Điều đặc biệt trong chương trình đồng hành và kết nối này không chỉ là kinh nghiệm mà còn là những lời chia sẻ khơi gợi niềm cảm hứng và tiếp thêm động lực học tập cho các bạn tân sinh viên từ những người anh chị đi trước. Bích Hằng – cựu sinh viên khóa QH.2017 lớp 17E6 đã làm được điều đó ngay trong buổi gặp mặt ngày hôm nay. Mặc dù gặp nhiều khó khăn khi có khiếm khuyết về thể chất nhưng chị không hề nản chí hay có thái độ bỏ cuộc trước khó khăn, thay vào đó là nghị lực vươn lên trong học tập, coi những khuyết điểm đó như một phần tất yếu của mỗi con người. Nói về cảm xúc khi tham gia chương trình, chị chia sẻ: “ Ngày trước, khi vẫn còn là một cô sinh viên của ULIS, mình đã nhận được rất nhiều sự giúp đỡ của các thầy cô, bạn bè cùng lớp và có thể ra trường đúng hạn như các bạn đồng trang lứa nên hôm nay mình thực sự rất vui khi được quay trở lại trường để tham gia đồng hành cùng các bạn sinh viên năm nhất và được chia sẻ với các bạn về những kinh nghiệm cũng như phương pháp học tập mà mình từng thực hiện có hiệu quả. Có thể thời gian đầu các bạn ấy sẽ cảm thấy hơi khó khăn, hơi bỡ ngỡ với deadlines, với lớp mới, bạn mới nhưng chỉ một vài tháng thôi, các bạn sẽ quen dần, không còn cảm giác khó khăn như ban đầu và từ đó, chắc chắn mỗi ngày đến trường đều là một ngày vui. Mình cũng hy vọng rằng, với sự cố gắng không ngừng nghỉ để đánh bại những khó khăn của bản thân, mình có thể truyền một nguồn động lực to lớn tới các bạn sinh viên. Rất nhiều bạn tân sinh viên có mặt tại đây hôm nay có lợi thế hơn mình của lúc trước rất nhiều nên mình mong các bạn hãy cố gắng học tập, rèn luyện để có tương lai tốt đẹp như các bạn mong muốn.” Chương trình Đồng hành kết nối cựu sinh viên và sinh viên khóa QH.2023 của Trường Đại học Ngoại ngữ, ĐHQGHN đã thực hiện được mục đích thiết thực và ý nghĩa của Nhà trường như cái tên của nó, mong muốn mang lại những giá trị và bài học ý nghĩa cho các bạn tân sinh viên trong những ngày đầu nhập học. Một số hình ảnh khác: Thu Hường/ĐSTT\n",
      "https://ulis.vnu.edu.vn/files/uploads/2023/10/2023-10-09_8-50-26.jpg\n",
      "https://ulis.vnu.edu.vn/dong-hanh-ket-noi-giua-cuu-sinh-vien-va-sinh-vien-khoa-qh2023-f1/\n"
     ]
    }
   ],
   "source": [
    "\n",
    "import requests\n",
    "from scrapy.http import TextResponse\n",
    "from datetime import datetime\n",
    "import dateparser\n",
    "res = requests.get(\"https://ulis.vnu.edu.vn/dong-hanh-ket-noi-giua-cuu-sinh-vien-va-sinh-vien-khoa-qh2023-f1/\")\n",
    "response = TextResponse(res.url, body=res.text, encoding='utf-8')\n",
    "\n",
    "# products = response.css('.panel-body')\n",
    "title = response.css('.post-content .title::text').get()\n",
    "datetime_str = response.css('.index-post-date::text').get()\n",
    "\n",
    "parts = datetime_str.split()\n",
    "if len(parts) == 3:\n",
    "    new_datetime_str = f\"{parts[1]} {parts[0]},{parts[2]}\"\n",
    "else:\n",
    "    new_datetime_str = datetime_str\n",
    "\n",
    "# Tạo một hàm để phân tích ngày tháng\n",
    "def custom_date_parser(date_str):\n",
    "    try:\n",
    "        return datetime.strptime(date_str, '%d, %b,%Y')\n",
    "    except ValueError:\n",
    "        return None\n",
    "\n",
    "datetime_obj = custom_date_parser(new_datetime_str)\n",
    "\n",
    "content = response.css('div[id=\"dslc-theme-content-inner\"] *::text').getall()\n",
    "cleaned_content = [text.strip() for text in content if text.strip()]\n",
    "cleaned_content = ' '.join(cleaned_content).strip()\n",
    "image_url = response.css('div[id=\"dslc-theme-content-inner\"] img::attr(src)').extract_first()\n",
    "if image_url == None:\n",
    "    image_url = response.css('.news_column .image-center img::attr(src)').extract_first()\n",
    "news_url = response.url\n",
    "    \n",
    "print(title)\n",
    "print(new_datetime_str)\n",
    "print(datetime_obj)\n",
    "print(cleaned_content)\n",
    "print(image_url)\n",
    "print(news_url)"
   ]
  },
  {
   "cell_type": "code",
   "execution_count": 13,
   "metadata": {},
   "outputs": [
    {
     "name": "stdout",
     "output_type": "stream",
     "text": [
      "Đồng hành kết nối giữa cựu sinh viên và sinh viên khóa QH2023.F1\n",
      "27, Th10,2023\n",
      "None\n"
     ]
    }
   ],
   "source": [
    "import requests\n",
    "from scrapy.http import TextResponse\n",
    "from datetime import datetime\n",
    "\n",
    "res = requests.get(\"https://ulis.vnu.edu.vn/dong-hanh-ket-noi-giua-cuu-sinh-vien-va-sinh-vien-khoa-qh2023-f1/\")\n",
    "response = TextResponse(res.url, body=res.text, encoding='utf-8')\n",
    "\n",
    "title = response.css('.post-content .title::text').get()\n",
    "datetime_str = response.css('.index-post-date::text').get()\n",
    "\n",
    "parts = datetime_str.split()\n",
    "if len(parts) == 3:\n",
    "    new_datetime_str = f\"{parts[1]} {parts[0]},{parts[2]}\"\n",
    "else:\n",
    "    new_datetime_str = datetime_str\n",
    "\n",
    "def custom_date_parser(date_str):\n",
    "    try:\n",
    "        return datetime.strptime(date_str, '%d, %b, %Y')\n",
    "    except ValueError:\n",
    "        return None\n",
    "\n",
    "\n",
    "datetime_obj = custom_date_parser(new_datetime_str)\n",
    "\n",
    "print(title)\n",
    "print(new_datetime_str)\n",
    "print(datetime_obj)\n"
   ]
  }
 ],
 "metadata": {
  "kernelspec": {
   "display_name": "Python 3",
   "language": "python",
   "name": "python3"
  },
  "language_info": {
   "codemirror_mode": {
    "name": "ipython",
    "version": 3
   },
   "file_extension": ".py",
   "mimetype": "text/x-python",
   "name": "python",
   "nbconvert_exporter": "python",
   "pygments_lexer": "ipython3",
   "version": "3.11.5"
  }
 },
 "nbformat": 4,
 "nbformat_minor": 2
}
