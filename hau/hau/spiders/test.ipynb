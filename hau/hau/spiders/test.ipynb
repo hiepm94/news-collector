{
 "cells": [
  {
   "cell_type": "code",
   "execution_count": 8,
   "metadata": {},
   "outputs": [
    {
     "name": "stdout",
     "output_type": "stream",
     "text": [
      "Công đoàn Trường Đại học Kiến trúc Hà Nội hướng dẫn, tuyên truyền đến sinh viên năm cuối về tổ chức Công đoàn và các chế định hợp đồng lao động\n",
      "2023-10-26 00:00:00\n",
      "Nhằm thực hiện Nghị quyết Đại hội XIII Công đoàn Xây dựng Việt Nam tại các Trường đào tạo trong ngành Xây dựng, sáng 25/10/2023, TS.KTS. Ngô Thị Kim Dung - Phó Hiệu trưởng, Chủ tịch Công đoàn Trường Đại học Kiến trúc Hà Nội đã có buổi chia sẻ, tuyên truyền tới các sinh viên năm cuối một số kiến thức quan trọng về tổ chức Công đoàn và các chế định hợp đồng lao động. Buổi nói chuyện thu hút đông đảo sinh viên, đặc biệt là sinh viên năm cuối tham gia hưởng ứng. Thông qua buổi tuyên truyền bổ ích này, các sinh viên năm cuối - lực lượng lao động trẻ tương lai sẽ biết bảo vệ quyền và lợi ích hợp pháp, chính đáng của mình ngay khi bắt đầu đi làm và chủ động gia nhập tổ chức Công đoàn tại nơi làm việc.\n",
      "/data/data/hau/2023/daihocKientruc%20gtCD2023.jpg\n",
      "https://hau.edu.vn/Cong-doan-Truong-Dai-hoc-Kien-truc-Ha-Noi-huong-dan-tuyen-truyen-den-sinh-vien-nam-cuoi-ve-to-chuc-Cong-doan-va-cac-che-dinh-hop-dong-lao-dong_n3506.html\n"
     ]
    }
   ],
   "source": [
    "\n",
    "import requests\n",
    "from scrapy.http import TextResponse\n",
    "from datetime import datetime\n",
    "import dateparser\n",
    "res = requests.get(\"https://hau.edu.vn/Cong-doan-Truong-Dai-hoc-Kien-truc-Ha-Noi-huong-dan-tuyen-truyen-den-sinh-vien-nam-cuoi-ve-to-chuc-Cong-doan-va-cac-che-dinh-hop-dong-lao-dong_n3506.html\")\n",
    "response = TextResponse(res.url, body=res.text, encoding='utf-8')\n",
    "\n",
    "title = response.css('#news-cate h1::text').get()\n",
    "datetime_str = response.css('.pull-left::text').get()\n",
    "datetime_obj = dateparser.parse(datetime_str, languages=['vi'])    \n",
    "content = response.css('div[class=\"post_content\"] *::text').getall()\n",
    "cleaned_content = [text.strip() for text in content if text.strip()]\n",
    "cleaned_content = ' '.join(cleaned_content).strip()\n",
    "image_url = response.css('div[class=\"post_content\"] img::attr(src)').extract_first()\n",
    "if image_url == None:\n",
    "    image_url = response.css('.news_column .image-center img::attr(src)').extract_first()\n",
    "news_url = response.url\n",
    "    \n",
    "print(title)\n",
    "print(datetime_obj)\n",
    "print(cleaned_content)\n",
    "print(image_url)\n",
    "print(news_url)"
   ]
  }
 ],
 "metadata": {
  "kernelspec": {
   "display_name": "Python 3",
   "language": "python",
   "name": "python3"
  },
  "language_info": {
   "codemirror_mode": {
    "name": "ipython",
    "version": 3
   },
   "file_extension": ".py",
   "mimetype": "text/x-python",
   "name": "python",
   "nbconvert_exporter": "python",
   "pygments_lexer": "ipython3",
   "version": "3.11.5"
  }
 },
 "nbformat": 4,
 "nbformat_minor": 2
}
