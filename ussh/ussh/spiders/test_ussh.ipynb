{
 "cells": [
  {
   "cell_type": "code",
   "execution_count": 25,
   "metadata": {},
   "outputs": [
    {
     "name": "stdout",
     "output_type": "stream",
     "text": [
      "Tọa đàm quốc tế “Biến đổi xã hội và những vấn đề quản lý khoa học, công nghệ & đổi mới tại Việt Nam” - Hoạt động ý nghĩa kỷ niệm 10 năm thành lập Viện Chính sách và Quản lý và 20 năm hợp tác với Quỹ Rosa Luxemburg, CHLB Đức\n",
      "2023-10-26 09:43:00\n",
      "Tọa đàm quốc tế “Biến đổi xã hội và những vấn đề quản lý khoa học, công nghệ & đổi mới tại Việt Nam” - Hoạt động ý nghĩa kỷ niệm 10 năm thành lập Viện Chính sách và Quản lý và 20 năm hợp tác với Quỹ Rosa Luxemburg, CHLB Đức Trường Đại học Khoa học Xã hội và Nhân văn 2023-10-26T10:25:14+07:00 2023-10-26T10:25:14+07:00   Trường Đại học Khoa học Xã hội và Nhân văn - ĐHQGHN  Thứ năm - 26/10/2023 09:43 Ngày 03/11/2023, Viện Chính sách và Quản lý tổ chức kỷ niệm 10 năm thành lập và 20 năm hợp tác với Quỹ Rosa Luxemburg, Cộng hòa Liên bang Đức. Đây là sự kiện đánh dấu chặng đường phát triển với những đóng góp đáng ghi nhận của Viện trong các lĩnh vực nghiên cứu chính sách và quản lý tại Việt Nam và là dịp nhìn lại các thành tựu trong các dự án hợp tác với Quỹ Rosa Luxemburg khu vực Đông Nam Á - Văn phòng Đại diện tại Hà Nội về các hoạt động nghiên cứu về chính sách, khoa học và giáo dục, các vấn đề chuyển đổi sinh thái - xã hội và phát triển bền vững. Nhân dịp kỷ niệm đặc biệt này, Viện Chính sách và Quản lý tổ chức tọa đàm quốc tế với chủ đề “Biến đổi xã hội và những vấn đề quản lý khoa học, công nghệ và đổi mới tại Việt Nam”. Tọa đàm sẽ tập trung phân tích mối liên hệ giữa biến đổi xã hội với sự phát triển của khoa học, công nghệ và đổi mới; và những vấn đề quản lý về khoa học, công nghệ và đổi mới tại Việt Nam trong bối cảnh hội nhập với khu vực và thế giới, trước những tác động của cuộc Cách mạng Công nghiệp lần thứ tư và những biến đổi xã hội đương đại đang diễn ra hết sức mạnh mẽ. Tọa đàm có sự tham gia của các nhà khoa học, các chuyên gia đến từ các trường đại học, viện nghiên cứu cùng các khách mời quốc tế đến từ Quỹ Rosa Luxemburg. Thông qua các hoạt động trao đổi, chia sẻ các kết quả nghiên cứu, các nhà khoa học sẽ cùng luận bàn về những vấn đề quản lý khoa học, công nghệ và đổi mới mang tính thời sự hiện nay. Đây cũng là những gợi ý giúp định hướng các vấn đề nghiên cứu trọng tâm của Viện trong thời gian tới. Thông tin chi tiết về hoạt động kỷ niệm: * Hoạt động Lễ kỷ niệm và tọa đàm - Lễ kỷ niệm 10 năm thành lập Viện Chính sách và Quản lý và 20 năm hợp tác giữa Viện Chính sách và Quản lý và Quỹ Rosa Luxemburg (CHLB Đức). - Tọa đàm “Biến đổi xã hội và những vấn đề quản lý khoa học, công nghệ và đổi mới tại Việt Nam” Thời gian: 08h30, thứ Sáu, ngày 03 tháng 11 năm 2023 Địa điểm: Phòng 304 nhà E, Trường Đại học Khoa học Xã hội và Nhân văn - Đại học Quốc gia Hà Nội, Số 336 Nguyễn Trãi, Thanh Xuân, Hà Nội Hình thức: Trực tiếp Ngôn ngữ: Tiếng Việt – Tiếng Đức * Hoạt động Triển lãm Thời gian: Thứ Sáu, ngày 03 tháng 11 năm 2023. Địa điểm : Tầng 1 nhà E, Trường Đại học Khoa học Xã hội và Nhân văn - Đại học Quốc gia Hà Nội, Số 336 Nguyễn Trãi, Thanh Xuân, Hà Nội. Triển lãm sẽ tiếp tục từ ngày 06 - 08/11/2023 tại khuôn viên nhà D của Trường Mọi thông tin vui lòng liên hệ Ban điều phối: Ms. Nguyễn Thị Quỳnh Anh, ĐT:0853 984 881   Email: anhnguyen.ipam@gmail.com Trân trọng kính mời các nhà khoa học, các quý độc giả quan tâm tham dự! Viện Chính sách và Quản lý (The Institute of Policy and Management – IPAM) được thành lập theo Quyết định 876 QĐ/XHNV-TC ban hành ngày 16 tháng 4 năm 2013 của Hiệu trưởng trường Đại học Khoa học Xã hội và Nhân văn, Đại học Quốc gia Hà Nội. Viện được nâng cấp trên cơ sở những thành tựu phát triển của Trung tâm Nghiên cứu và Phân tích Chính sách (CEPSTA) – một trong những trung tâm được xếp hạng thuộc phân nhóm trung tâm nghiên cứu và hỗ trợ đào tạo hoạt động hiệu quả với bề dày nghiên cứu và đào tạo về chính sách ở Việt Nam từ năm 1991. Năm 2015, Viện được công nhận Nhóm nghiên cứu mạnh về chính sách và quản lý. Năm 2018 đến nay, Viện được công nhận là Trung tâm Nghiên cứu trọng điểm cấp ĐHQGHN. Tác giả: Trường Đại học Khoa học Xã hội và Nhân văn Tags: Trường Đại học Khoa học Xã hội và Nhân văn , Viện Chính sách và Quản lý , Quỹ Rosa Luxemburg Tổng số điểm của bài viết là: 0 trong 0 đánh giá Click để đánh giá bài viết Những tin cũ hơn Hội nghị Xúc tiến đầu tư 2023 của Đại học Quốc gia Hà Nội (26/10/2023) Thông báo Chương trình học bổng AEON 1% Club năm học 2023 – 2024 dành cho sinh viên VNU-USSH (18/10/2023) Hội thảo quốc tế “Nguồn nhân lực cho công nghiệp thông tin trong bối cảnh chuyển đổi số quốc gia” (18/10/2023) Thông báo xét tặng danh hiệu “Gương mặt trẻ tiêu biểu Đại học Quốc gia Hà Nội” (18/10/2023) Thông báo lịch tổ chức bảo vệ luận án tiến sĩ cho nghiên cứu sinh Nguyễn Phương Anh (16/10/2023) Thông báo lịch tổ chức bảo vệ luận án tiến sĩ cho nghiên cứu sinh Nguyễn Thị Thanh Tú (16/10/2023) Thông báo học bổng Chevening của Chính phủ Anh (11/10/2023) “Thúc đẩy hoạt động nghiên cứu khoa học”: Trao đổi, chia sẻ kinh nghiệm với cán bộ giảng dạy, nghiên cứu viên nữ Trường ĐH KHXH&NV, ĐHQGHN (09/10/2023) Thông báo về việc tổ chức đấu giá quyền khai thác căng tin Trường ĐHKHXH&NV, ĐHQGHN (09/10/2023) Các kỹ năng quản lý, lãnh đạo trong nghiên cứu khoa học: Trao đổi, chia sẻ kinh nghiệm với cán bộ giảng dạy, nghiên cứu viên nữ Trường ĐH KHXH&NV, ĐHQGHN (09/10/2023)\n",
      "/assets/ussh/news/2023_10/ipam-copy.jpg\n",
      "https://ussh.vnu.edu.vn/vi/news/thong-bao/toa-dam-quoc-te-bien-doi-xa-hoi-va-nhung-van-de-quan-ly-khoa-hoc-cong-nghe-doi-moi-tai-viet-nam-hoat-dong-y-nghia-ky-niem-10-nam-thanh-lap-vien-chinh-sach-va-quan-ly-va-20-nam-hop-tac-voi-quy-rosa-luxemburg-chlb-duc-22240.html\n"
     ]
    }
   ],
   "source": [
    "from scrapy.http import TextResponse\n",
    "import dateparser\n",
    "import requests\n",
    "import re\n",
    "from bs4 import BeautifulSoup\n",
    "\n",
    "\n",
    "res = requests.get(\"https://ussh.vnu.edu.vn/vi/news/thong-bao/toa-dam-quoc-te-bien-doi-xa-hoi-va-nhung-van-de-quan-ly-khoa-hoc-cong-nghe-doi-moi-tai-viet-nam-hoat-dong-y-nghia-ky-niem-10-nam-thanh-lap-vien-chinh-sach-va-quan-ly-va-20-nam-hop-tac-voi-quy-rosa-luxemburg-chlb-duc-22240.html\")\n",
    "\n",
    "response = TextResponse(res.url, body=res.text, encoding='utf-8')\n",
    "title = response.css('.title::text').get()\n",
    "datetime_str = response.css('.h5::text').get()\n",
    "datetime_obj = dateparser.parse(datetime_str, languages=['vi'])\n",
    "content = response.css('div.news_column.panel.panel-default *::text').getall()\n",
    "cleaned_content = [text.strip() for text in content if text.strip()]\n",
    "cleaned_content = ' '.join(cleaned_content).strip()\n",
    "\n",
    "# Tạo một đối tượng BeautifulSoup từ đoạn văn bản\n",
    "soup = BeautifulSoup(cleaned_content, 'html.parser')\n",
    "\n",
    "# Tìm và loại bỏ các phần tử có class \"title margin-bottom-lg\" hoặc \"col-md-12\"\n",
    "for tag in soup.find_all(class_=[\"title margin-bottom-lg\", \".h5\"]):\n",
    "    tag.decompose()\n",
    "\n",
    "# Lấy nội dung đã được loại bỏ các class\n",
    "cleaned_content = soup.get_text(strip=True)\n",
    "\n",
    "cleaned_content = re.sub(r'https?://\\S+', '', cleaned_content)\n",
    "image_url = response.css('img.img-thumbnail::attr(src)').extract_first()\n",
    "if image_url == None:\n",
    "    image_url = response.css('.news_column .image-center img::attr(src)').extract_first()\n",
    "news_url = response.url\n",
    "    \n",
    "print(title)\n",
    "print(datetime_obj)\n",
    "print(cleaned_content)\n",
    "print(image_url)\n",
    "print(news_url)\n"
   ]
  }
 ],
 "metadata": {
  "kernelspec": {
   "display_name": "Python 3",
   "language": "python",
   "name": "python3"
  },
  "language_info": {
   "codemirror_mode": {
    "name": "ipython",
    "version": 3
   },
   "file_extension": ".py",
   "mimetype": "text/x-python",
   "name": "python",
   "nbconvert_exporter": "python",
   "pygments_lexer": "ipython3",
   "version": "3.11.5"
  }
 },
 "nbformat": 4,
 "nbformat_minor": 2
}
