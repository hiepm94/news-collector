{
 "cells": [
  {
   "cell_type": "code",
   "execution_count": null,
   "metadata": {},
   "outputs": [],
   "source": [
    "\n",
    "import requests\n",
    "from scrapy.http import TextResponse\n",
    "from datetime import datetime\n",
    "import dateparser\n",
    "res = requests.get(\"https://www.hust.edu.vn/vi/news/hoat-dong-chung/truong-he-hoc-may-hien-dai-2023-dong-gop-cho-su-phat-trien-ben-vung-cua-cong-dong-654862.html\")\n",
    "response = TextResponse(res.url, body=res.text, encoding='utf-8')\n",
    "\n",
    "products = response.css('.panel-body')\n",
    "title = response.css('h6::text').get()\n",
    "# datetime_str = response.css('span[class=\"h5\"]::text').get()\n",
    "# datetime_obj = dateparser.parse(datetime_str, languages=['vi'])    \n",
    "# content = response.css('#news-bodyhtml *::text').getall()\n",
    "# cleaned_content = [text.strip() for text in content if text.strip()]\n",
    "# cleaned_content = ' '.join(cleaned_content).strip()\n",
    "# image_url = response.css('img.img-thumbnail::attr(src)').extract_first()\n",
    "# if image_url == None:\n",
    "#     image_url = response.css('.news_column .image-center img::attr(src)').extract_first()\n",
    "# news_url = response.url\n",
    "    \n",
    "print(title)\n",
    "# print(datetime_obj)\n",
    "# print(cleaned_content)\n",
    "# print(image_url)\n",
    "# print(news_url)"
   ]
  }
 ],
 "metadata": {
  "language_info": {
   "name": "python"
  }
 },
 "nbformat": 4,
 "nbformat_minor": 2
}
