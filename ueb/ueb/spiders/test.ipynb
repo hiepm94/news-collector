{
 "cells": [
  {
   "cell_type": "code",
   "execution_count": 11,
   "metadata": {},
   "outputs": [
    {
     "name": "stdout",
     "output_type": "stream",
     "text": [
      "Company Tour: Những bài học nằm ngoài trang sách dành cho sinh viên UEB - USF\n",
      "2023-10-19 14:39:00\n",
      "Company tour là chương trình thường niên của sinh viên theo học các chương trình Quản trị kinh doanh do đối tác nước ngoài cấp bằng tại Trường Đại học Kinh tế - ĐHQGHN. Sinh viên tham gia có cơ hội được tham quan các doanh nghiệp, tìm hiểu về môi trường làm việc thực tế. Từ đó có kế hoạch học tập rõ ràng và cái nhìn bao quát hơn cho công việc tương lai. Trong chuyến đi lần này, hơn 100 sinh viên đang học năm thứ 3 chương trình Quản trị kinh doanh do Đại học St. Francis, Hoa Kỳ cấp bằng đã được trải nghiệm những hoạt động company tour tại Le Farm home stay và Mô hình kinh doanh trà và thiền trà Sương Mai Thái Nguyên. Sinh viên UEB – USF tham gia hoạt động trải nghiệm Company tour Điểm đến đầu tiên mở đầu cho chuỗi hoạt động Company Tour là Le Farm home stay thuộc LHB Group - một doanh nghiệp hoạt động trong lĩnh vực kinh doanh nghỉ dưỡng, đầu tư bất động sản. Tại đây, các em đã được gặp gỡ và giao lưu cùng với Ông Lê Thành Công - Chủ tịch LHB Group. Ông Công đã chia sẻ với các em về mô hình kinh doanh tại Le Farm và kinh nghiệm khởi nghiệp dành cho các bạn sinh viên. Ông Lê Thành Công - Chủ tịch LHB Group giao lưu cùng các bạn sinh viên UEB – USF LHB Group được biết đến như một doanh nghiệp trẻ trung, năng động và đa dạng các loại hình kinh doanh. Với câu chuyện “khởi nghiệp từ hai bàn tay trắng”, diễn giả đã mang đến nhiều câu chuyện bổ ích và bài học kinh nghiệm dành cho các bạn đang có khát vọng khởi nghiệp. Các bạn sinh viên lắng nghe và giao lưu cùng diễn giả Bạn Thuỳ Dương – Sinh viên K1 UEB – USF chia sẻ: “Những giờ lên lớp, em học được rất nhiều kiến thức bổ ích từ thầy cô nhưng đôi lúc em không hình dùng ra được sau này mình sẽ làm được gì với những kiến thức đó và nó sẽ ra sao nhưng qua chuyến đi thăm quan và trải nghiệm tại doanh nghiệp như này đã giúp em phần nào tự tin hơn và sẽ biết mình cần cố gắng nhiều hơn nữa cho tương lai sau này trong lĩnh vực kinh doanh mà mình đã lựa chọn.” Bạn Thuỳ Dương(giữa) đặt câu hỏi và giao lưu cùng diễn giả Thay mặt nhà trường, T.S Đào Cẩm Thuỷ - Phó Giám đốc Trung tâm Đào tạo & Giáo dục quốc tế (UEB - CITE) đã gửi lời cảm ơn tới diễn giả Lê Thành Công về những chia sẻ đầy bổ ích dành cho các bạn sinh viên UEB – USF trong chuyến thăm và trải nghiệm tại Le Farm. Các em sinh viên chụp ảnh lưu niệm cùng diễn giả Lê Thành Công Chia tay Le Farm, điểm dừng chân thứ 2 trong hành trình là Công ty Cổ phần Trà Sương Mai Thái Nguyên. Tại đây các em đã được tìm hiểu về m ô hình kinh doanh trà và thiền trà cùng Trà sư Sương Mai. Trà sư Sương Mai (ngoài cùng bên trái) hướng dẫn các bạn sinh viên về cách “thiền trà” Giữa cuộc sống hối hả, trà thiền là “bến đỗ” giúp ta chậm lại và chiêm nghiệm nhiều hơn. Vậy uống trà thiền là gì, ý nghĩa ra sao và cách uống thế nào để tận hưởng trọn vẹn những tinh túy cô đọng từ đất trời? Với sự hướng dẫn của diễn giả Sương Mai – Trà sư – CEO cấp cao của Công ty Trà Sương Mai Thái Nguyên, các bạn sinh viên đã có những phút giây được sống chậm lại và cùng hoà mình vào một nét văn hóa, một trường phái thưởng trà, qua đó có được những giây phút tĩnh tâm, đưa tâm trở lại với chính mình, từ đó, bản thân mỗi người sẽ tận hưởng được sự thoải mái, an lạc và hạnh phúc. Đó là cách cân bằng cuộc sống sau những căng thẳng công việc mà có thể rất dễ gặp phải khi đi làm sau này. Sinh viên cũng được tìm hiểu thêm về mô hình kinh doanh, cách tạo ra giá trị chung cho cộng đồng qua mô hình của Công ty Sương Mai. Các bạn sinh viên chăm chú lắng nghe và học cách “Thiền trà” theo hướng dẫn của Trà sư Sương Mai \"Em cảm thấy chuyến đi ngày hôm nay là một trải nghiệm bổ ích và có giá trị thực tế rất lớn đối với sinh viên chúng em. Được gặp gỡ với hai diễn giả, mỗi người một phong cách, một quan niệm sống và những bài học kinh nghiệm từ kinh doanh khác nhau giúp chúng em có được hành trang vững chắc hơn để chuẩn bị cho công việc trong tương lai\" – Minh Giang, sinh viên năm thứ 3 UEB – USF chia sẻ cảm nghĩ về chuyến đi. Đoàn chụp ảnh lưu niệm cùng diễn giả - Trà sư Sương Mai Company Tour là một chương trình nằm trong chiến lược h ọc đi đôi với thực tiễn và mở rộng quan hệ doanh nghiệp của Trường Đại học Kinh tế - ĐHQGHN. Tại đây, sinh viên được tham quan, trải nghiệm môi trường làm việc của các tập đoàn, doanh nghiệp và tổ chức phù hợp với định hướng việc làm của các em . Chương trình cung cấp các thông tin về hoạt động doanh nghiệp như cấu trúc vận hành, văn hóa doanh nghiệp, cơ hội việc làm và tiêu chí tuyển dụng của doanh nghiệp... Những trải nghiệm này sẽ giúp sinh viên c ủa Trường có góc nhìn rộng hơn về thị trường lao động, từ đó  có sự chuẩn bị những kiến thức và kỹ năng cho công việc trong tương lai. Một số hình ảnh tại Company tour:\n",
      "https://admin.cms.ueb.edu.vn/ckfinder/connector?command=Proxy&type=admin&currentFolder=%2f&fileName=uebc11.jpg&cache=31536000\n",
      "https://ueb.vnu.edu.vn/Tin-Tuc/UEB/company-tour--nhung-bai-hoc-nam-ngoai-trang-sach-danh-cho-sinh-vien-ueb--usf/34543\n"
     ]
    }
   ],
   "source": [
    "\n",
    "import requests\n",
    "from scrapy.http import TextResponse\n",
    "from datetime import datetime\n",
    "import dateparser\n",
    "res = requests.get(\"https://ueb.vnu.edu.vn/Tin-Tuc/UEB/company-tour--nhung-bai-hoc-nam-ngoai-trang-sach-danh-cho-sinh-vien-ueb--usf/34543\")\n",
    "response = TextResponse(res.url, body=res.text, encoding='utf-8')\n",
    "\n",
    "# products = response.css('.panel-body')\n",
    "title = response.css('.about-intro-title::text').get()\n",
    "datetime_str =  response.css('span.spanTimer').get().replace('<span class=\"spanTimer\">\\r\\n                            <i class=\"icon-time\"></i>\\r\\n','').replace('\\r\\n                        </span>','')\n",
    "datetime_str = datetime_str.strip()\n",
    "\n",
    "datetime_obj = dateparser.parse(datetime_str, languages=['vi'])\n",
    "content = response.css('div[class=\"about-detail posmb-5 pt-3\"] *::text').getall()\n",
    "cleaned_content = [text.strip() for text in content if text.strip()]\n",
    "cleaned_content = ' '.join(cleaned_content).strip()\n",
    "image_url = response.css('div[class=\"about-detail posmb-5 pt-3\"] img::attr(src)').extract_first()\n",
    "if image_url == None:\n",
    "    image_url = response.css('.news_column .image-center img::attr(src)').extract_first()\n",
    "news_url = response.url\n",
    "    \n",
    "print(title)\n",
    "print(datetime_obj)\n",
    "print(cleaned_content)\n",
    "print(image_url)\n",
    "print(news_url)"
   ]
  }
 ],
 "metadata": {
  "kernelspec": {
   "display_name": "Python 3",
   "language": "python",
   "name": "python3"
  },
  "language_info": {
   "codemirror_mode": {
    "name": "ipython",
    "version": 3
   },
   "file_extension": ".py",
   "mimetype": "text/x-python",
   "name": "python",
   "nbconvert_exporter": "python",
   "pygments_lexer": "ipython3",
   "version": "3.11.5"
  }
 },
 "nbformat": 4,
 "nbformat_minor": 2
}
